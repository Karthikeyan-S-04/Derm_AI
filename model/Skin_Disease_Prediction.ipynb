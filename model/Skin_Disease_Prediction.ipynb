{
 "cells": [
  {
   "cell_type": "markdown",
   "id": "bde82169",
   "metadata": {},
   "source": [
    "### Modules needed to Train the model"
   ]
  },
  {
   "cell_type": "code",
   "id": "14805b83-9b7e-483c-a4a4-4b9965882c09",
   "metadata": {},
   "source": [
    "import os\n",
    "os.environ['TF_CPP_MIN_LOG_LEVEL'] = '3'\n",
    "import tensorflow as tf\n",
    "from tensorflow.keras.preprocessing.image import ImageDataGenerator\n",
    "from tensorflow.keras.models import Sequential, save_model, Model\n",
    "from tensorflow.keras.layers import Conv2D, MaxPooling2D, Flatten, Dense, Dropout, BatchNormalization, Input\n",
    "from tensorflow.keras.regularizers import l2\n",
    "from tensorflow.keras.applications import VGG16\n",
    "from tensorflow.keras.callbacks import EarlyStopping, ReduceLROnPlateau\n",
    "from sklearn.metrics import classification_report, confusion_matrix\n",
    "from sklearn.utils.class_weight import compute_class_weight\n",
    "import numpy as np"
   ],
   "outputs": [],
   "execution_count": null
  },
  {
   "cell_type": "markdown",
   "id": "9ad89b71",
   "metadata": {},
   "source": [
    "#### Base Model [VGG16]"
   ]
  },
  {
   "cell_type": "code",
   "id": "8fbe682c-4d9f-4d6c-bcd1-e79fc58d7a68",
   "metadata": {},
   "source": [
    "base_model = VGG16(weights='imagenet', include_top=False, input_shape=(224, 224, 3))"
   ],
   "outputs": [],
   "execution_count": null
  },
  {
   "cell_type": "code",
   "id": "5d1901f0-d34b-4acb-9632-19b4ed7b1161",
   "metadata": {},
   "source": [
    "# Freeze the base model\n",
    "for layer in base_model.layers:\n",
    "    layer.trainable = False"
   ],
   "outputs": [],
   "execution_count": null
  },
  {
   "cell_type": "code",
   "id": "784bd32d-0888-408c-9148-9e5256309b8a",
   "metadata": {},
   "source": [
    "# Add custom layers on top of the base model\n",
    "x = base_model.output\n",
    "x = Flatten()(x)\n",
    "x = Dense(512, activation='relu')(x)\n",
    "x = Dropout(0.5)(x)\n",
    "x = Dense(6, activation='softmax')(x)  # Adjust the number of units based on the number of classes"
   ],
   "outputs": [],
   "execution_count": null
  },
  {
   "cell_type": "code",
   "id": "043c3d2b-449d-42dd-bd42-a3adb434ae04",
   "metadata": {},
   "source": [
    "model = Model(inputs=base_model.input, outputs=x)"
   ],
   "outputs": [],
   "execution_count": null
  },
  {
   "cell_type": "code",
   "id": "7c8800ed-7ecd-42ad-b374-69b8847fcd1a",
   "metadata": {},
   "source": [
    "# Compile the model\n",
    "model.compile(optimizer='adam', loss='categorical_crossentropy', metrics=['accuracy'])"
   ],
   "outputs": [],
   "execution_count": null
  },
  {
   "cell_type": "code",
   "id": "52c0bc2e-01a7-42bc-aaf2-6cada399af5f",
   "metadata": {},
   "source": [
    "for layer in base_model.layers[-3:]:\n",
    "    layer.trainable = True"
   ],
   "outputs": [],
   "execution_count": null
  },
  {
   "cell_type": "code",
   "id": "843d514d-5803-445f-b3d9-19be082aa82c",
   "metadata": {},
   "source": [
    "# Compile the model with a low learning rate\n",
    "model.compile(optimizer=tf.keras.optimizers.Adam(learning_rate=1e-4), loss='categorical_crossentropy', metrics=['accuracy'])"
   ],
   "outputs": [],
   "execution_count": null
  },
  {
   "metadata": {},
   "cell_type": "markdown",
   "source": "#### My Model",
   "id": "824839df7eac4719"
  },
  {
   "cell_type": "code",
   "id": "54bb98bb-824d-4668-9080-cc0b3f52ec9f",
   "metadata": {},
   "source": [
    "# Create the Sequential model\n",
    "model = Sequential([\n",
    "    Input(shape=(224, 224, 3)),  # Define the input shape with the Input layer\n",
    "    \n",
    "    Conv2D(32, (3, 3), activation='relu'),\n",
    "    BatchNormalization(),\n",
    "    MaxPooling2D((2, 2)),\n",
    "    Dropout(0.25),\n",
    "\n",
    "    Conv2D(64, (3, 3), activation='relu'),\n",
    "    BatchNormalization(),\n",
    "    MaxPooling2D((2, 2)),\n",
    "    Dropout(0.25),\n",
    "\n",
    "    Conv2D(128, (3, 3), activation='relu'),\n",
    "    BatchNormalization(),\n",
    "    MaxPooling2D((2, 2)),\n",
    "    Dropout(0.25),\n",
    "\n",
    "    Flatten(),\n",
    "\n",
    "    Dense(128, activation='relu', kernel_regularizer=l2(0.001)),\n",
    "    BatchNormalization(),\n",
    "    Dropout(0.5),\n",
    "\n",
    "    Dense(64, activation='relu', kernel_regularizer=l2(0.001)),\n",
    "    BatchNormalization(),\n",
    "    Dropout(0.5),\n",
    "\n",
    "    Dense(32, activation='relu', kernel_regularizer=l2(0.001)),\n",
    "    BatchNormalization(),\n",
    "    Dropout(0.5),\n",
    "\n",
    "    Dense(6, activation='softmax')\n",
    "])"
   ],
   "outputs": [],
   "execution_count": null
  },
  {
   "cell_type": "code",
   "id": "16cb93b0-a86e-4679-8561-a95e716cd3cf",
   "metadata": {},
   "source": [
    "# Compile the model\n",
    "model.compile(optimizer='adam', loss='categorical_crossentropy', metrics=['accuracy'])"
   ],
   "outputs": [],
   "execution_count": null
  },
  {
   "cell_type": "code",
   "id": "bb209976-76f7-4bf7-aafd-f3ad744e48a6",
   "metadata": {},
   "source": [
    "model.summary()"
   ],
   "outputs": [],
   "execution_count": null
  },
  {
   "metadata": {},
   "cell_type": "markdown",
   "source": "##### Preparing Train, Test and Validation Data",
   "id": "cfd4789be4d1c84f"
  },
  {
   "cell_type": "code",
   "id": "cc9ab279-74df-4129-8510-0d7bc2456647",
   "metadata": {},
   "source": [
    "# Data Augmentation and Generators\n",
    "train_datagen = ImageDataGenerator(rescale=1./255, rotation_range=20, width_shift_range=0.2,\n",
    "                                   height_shift_range=0.2, shear_range=0.2, zoom_range=0.2, \n",
    "                                   horizontal_flip=True, fill_mode='nearest')\n",
    "\n",
    "test_datagen = ImageDataGenerator(rescale=1./255)\n",
    "\n",
    "train_generator = train_datagen.flow_from_directory('data/train', target_size=(224, 224), \n",
    "                                                    batch_size=64, class_mode='categorical')\n",
    "\n",
    "validation_generator = test_datagen.flow_from_directory('data/val', target_size=(224, 224), \n",
    "                                                        batch_size=64, class_mode='categorical')"
   ],
   "outputs": [],
   "execution_count": null
  },
  {
   "metadata": {},
   "cell_type": "code",
   "source": [
    "data_dir = 'data/train'\n",
    "\n",
    "print(\"Class indices:\", train_generator.class_indices)\n",
    "for cls in train_generator.class_indices:\n",
    "    cls_dir = os.path.join(data_dir, cls)\n",
    "    num_images = len(os.listdir(cls_dir))\n",
    "    print(f\"Class {cls} has {num_images} images\")"
   ],
   "id": "3f85c526757a524d",
   "outputs": [],
   "execution_count": null
  },
  {
   "metadata": {},
   "cell_type": "markdown",
   "source": "##### Adding weights to counter the bias in the trainable data",
   "id": "5116e26709d7263"
  },
  {
   "cell_type": "code",
   "id": "c8c0ebe9-41da-4592-880a-653511f148d8",
   "metadata": {},
   "source": [
    "class_weights = compute_class_weight(\n",
    "    class_weight='balanced',\n",
    "    classes=np.unique(train_generator.classes),\n",
    "    y=train_generator.classes\n",
    ")\n",
    "\n",
    "class_weights_dict = dict(enumerate(class_weights))\n",
    "print(\"Class weights:\", class_weights_dict)"
   ],
   "outputs": [],
   "execution_count": null
  },
  {
   "metadata": {},
   "cell_type": "markdown",
   "source": "##### Using Early Stopping and ReduceLROnPlateau to dynamically end and adjust learning rate respectively",
   "id": "9705f50fea384988"
  },
  {
   "cell_type": "code",
   "id": "83d00122-ab81-48bd-8223-ba0df9d841c3",
   "metadata": {},
   "source": [
    "early_stopping = EarlyStopping(monitor='val_loss', patience=15, restore_best_weights=True,verbose=1)\n",
    "reduce_lr = ReduceLROnPlateau(monitor='val_loss', factor=0.2, patience=5, min_lr=1e-6,verbose=1)"
   ],
   "outputs": [],
   "execution_count": null
  },
  {
   "metadata": {},
   "cell_type": "code",
   "source": [
    "# Train the Model\n",
    "history = model.fit(train_generator, epochs=50, validation_data=validation_generator, callbacks=[reduce_lr,early_stopping],class_weight = class_weights_dict)"
   ],
   "id": "e2ffc08f34d606ff",
   "outputs": [],
   "execution_count": null
  },
  {
   "cell_type": "code",
   "id": "0ffd8f5a-ca7b-445b-81e1-95e12dae4200",
   "metadata": {},
   "source": [
    "# Save the Trained Model\n",
    "# model.save(\"trained_model.keras\")\n",
    "\n",
    "# Save the model in TensorFlow SavedModel format\n",
    "# model.save('model.h5')\n",
    "\n",
    "# Load the model from TensorFlow SavedModel format\n",
    "model = tf.keras.models.load_model('model.h5')\n",
    "\n",
    "# model = tf.keras.models.load_model('model_2.h5')"
   ],
   "outputs": [],
   "execution_count": null
  },
  {
   "metadata": {},
   "cell_type": "markdown",
   "source": "#### Testing The Accuracy of the Trained model",
   "id": "8784fe98a50b950d"
  },
  {
   "cell_type": "code",
   "id": "bdbc8c10-9cc8-4b1d-a02e-f681af547614",
   "metadata": {},
   "source": [
    "# Evaluate the Model on Test Data\n",
    "test_generator = test_datagen.flow_from_directory('data/test', target_size=(224, 224), \n",
    "                                                  batch_size=64, class_mode='categorical', shuffle=True)\n",
    "\n",
    "test_loss, test_accuracy = model.evaluate(test_generator)\n",
    "print(f'Test accuracy: {test_accuracy * 100:.2f}%')"
   ],
   "outputs": [],
   "execution_count": null
  },
  {
   "cell_type": "code",
   "id": "45d27e04-211f-4684-81a7-670ec8aed86c",
   "metadata": {},
   "source": [
    "# Get the ground truth labels\n",
    "test_labels = test_generator.classes\n",
    "print(test_labels)"
   ],
   "outputs": [],
   "execution_count": null
  },
  {
   "cell_type": "code",
   "id": "ff85b33a-3210-4600-8bd4-3bce3f5eaf09",
   "metadata": {},
   "source": [
    "# Predict the classes\n",
    "predictions = model.predict(test_generator)\n",
    "predicted_classes = np.argmax(predictions, axis=1)"
   ],
   "outputs": [],
   "execution_count": null
  },
  {
   "cell_type": "code",
   "id": "7778ddf5-29bb-4e53-a557-8b7a62cb7084",
   "metadata": {},
   "source": [
    "# Print classification report\n",
    "print(classification_report(test_labels, predicted_classes, target_names=test_generator.class_indices.keys()))\n",
    "\n",
    "# Print confusion matrix\n",
    "print(confusion_matrix(test_labels, predicted_classes))"
   ],
   "outputs": [],
   "execution_count": null
  }
 ],
 "metadata": {
  "kernelspec": {
   "display_name": "Python 3 (ipykernel)",
   "language": "python",
   "name": "python3"
  },
  "language_info": {
   "codemirror_mode": {
    "name": "ipython",
    "version": 3
   },
   "file_extension": ".py",
   "mimetype": "text/x-python",
   "name": "python",
   "nbconvert_exporter": "python",
   "pygments_lexer": "ipython3",
   "version": "3.12.4"
  }
 },
 "nbformat": 4,
 "nbformat_minor": 5
}
